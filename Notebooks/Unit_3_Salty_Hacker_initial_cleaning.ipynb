{
  "nbformat": 4,
  "nbformat_minor": 0,
  "metadata": {
    "colab": {
      "name": "Unit-3-Salty-Hacker-initial-cleaning.ipynb",
      "provenance": [],
      "collapsed_sections": []
    },
    "kernelspec": {
      "name": "python3",
      "display_name": "Python 3"
    },
    "accelerator": "GPU"
  },
  "cells": [
    {
      "cell_type": "markdown",
      "metadata": {
        "id": "E7FGBfEWX4Yj",
        "colab_type": "text"
      },
      "source": [
        "# Unit 3 - Who is the Saltiest Hacker?\n",
        "## Data Engineering by: Jay Adamo, Brad Brauser & Ryan Koul"
      ]
    },
    {
      "cell_type": "markdown",
      "metadata": {
        "id": "HsgekXxJ2FKt",
        "colab_type": "text"
      },
      "source": [
        "# Exploratory Data Analysis"
      ]
    },
    {
      "cell_type": "code",
      "metadata": {
        "id": "9zxXRnqzXobh",
        "colab_type": "code",
        "colab": {}
      },
      "source": [
        "# Importing necessary libraries\n",
        "import pandas as pd\n",
        "import re\n",
        "dataset_url = 'https://zenodo.org/record/45901/files/hacker_news_comments.csv'\n",
        "df = pd.read_csv(dataset_url, encoding='utf-8')\n"
      ],
      "execution_count": null,
      "outputs": []
    },
    {
      "cell_type": "code",
      "metadata": {
        "id": "mRQrwkse7ZKu",
        "colab_type": "code",
        "colab": {
          "base_uri": "https://localhost:8080/",
          "height": 1000
        },
        "outputId": "6adec64d-92d7-48aa-f868-0e4c656bcb07"
      },
      "source": [
        "# Sorting the data randomly\n",
        "print(df.info())\n",
        "df.sample(10)\n"
      ],
      "execution_count": null,
      "outputs": [
        {
          "output_type": "stream",
          "text": [
            "<class 'pandas.core.frame.DataFrame'>\n",
            "RangeIndex: 1165439 entries, 0 to 1165438\n",
            "Data columns (total 11 columns):\n",
            " #   Column                Non-Null Count    Dtype \n",
            "---  ------                --------------    ----- \n",
            " 0   story_id              1165439 non-null  int64 \n",
            " 1   story_time            1165439 non-null  int64 \n",
            " 2   story_url             987540 non-null   object\n",
            " 3   story_text            183381 non-null   object\n",
            " 4   story_author          1164932 non-null  object\n",
            " 5   comment_id            1165439 non-null  int64 \n",
            " 6   comment_text          1165439 non-null  object\n",
            " 7   comment_author        1165439 non-null  object\n",
            " 8   comment_ranking       1165439 non-null  int64 \n",
            " 9   author_comment_count  1165439 non-null  int64 \n",
            " 10  story_comment_count   1165439 non-null  int64 \n",
            "dtypes: int64(6), object(5)\n",
            "memory usage: 97.8+ MB\n",
            "None\n"
          ],
          "name": "stdout"
        },
        {
          "output_type": "execute_result",
          "data": {
            "text/html": [
              "<div>\n",
              "<style scoped>\n",
              "    .dataframe tbody tr th:only-of-type {\n",
              "        vertical-align: middle;\n",
              "    }\n",
              "\n",
              "    .dataframe tbody tr th {\n",
              "        vertical-align: top;\n",
              "    }\n",
              "\n",
              "    .dataframe thead th {\n",
              "        text-align: right;\n",
              "    }\n",
              "</style>\n",
              "<table border=\"1\" class=\"dataframe\">\n",
              "  <thead>\n",
              "    <tr style=\"text-align: right;\">\n",
              "      <th></th>\n",
              "      <th>story_id</th>\n",
              "      <th>story_time</th>\n",
              "      <th>story_url</th>\n",
              "      <th>story_text</th>\n",
              "      <th>story_author</th>\n",
              "      <th>comment_id</th>\n",
              "      <th>comment_text</th>\n",
              "      <th>comment_author</th>\n",
              "      <th>comment_ranking</th>\n",
              "      <th>author_comment_count</th>\n",
              "      <th>story_comment_count</th>\n",
              "    </tr>\n",
              "  </thead>\n",
              "  <tbody>\n",
              "    <tr>\n",
              "      <th>407484</th>\n",
              "      <td>2682712</td>\n",
              "      <td>1308744269</td>\n",
              "      <td>http://markusjais.com/why-scala-seems-difficul...</td>\n",
              "      <td>NaN</td>\n",
              "      <td>nuriaion</td>\n",
              "      <td>2683333</td>\n",
              "      <td>Coincidentally, today is the first day I'm ser...</td>\n",
              "      <td>currywurst</td>\n",
              "      <td>6</td>\n",
              "      <td>52</td>\n",
              "      <td>12</td>\n",
              "    </tr>\n",
              "    <tr>\n",
              "      <th>538938</th>\n",
              "      <td>4247096</td>\n",
              "      <td>1342365640</td>\n",
              "      <td>http://steverandytantra.com/thoughts/three-mon...</td>\n",
              "      <td>Sublime Text 2 is a text editor with great res...</td>\n",
              "      <td>steverandy</td>\n",
              "      <td>4247290</td>\n",
              "      <td>having started my programming career with web ...</td>\n",
              "      <td>csulok</td>\n",
              "      <td>5</td>\n",
              "      <td>17</td>\n",
              "      <td>14</td>\n",
              "    </tr>\n",
              "    <tr>\n",
              "      <th>242880</th>\n",
              "      <td>7364034</td>\n",
              "      <td>1394246581</td>\n",
              "      <td>NaN</td>\n",
              "      <td>NaN</td>\n",
              "      <td>NaN</td>\n",
              "      <td>7364114</td>\n",
              "      <td>Wow might need a filter there of some sort.</td>\n",
              "      <td>michaelrhansen</td>\n",
              "      <td>16</td>\n",
              "      <td>29</td>\n",
              "      <td>30</td>\n",
              "    </tr>\n",
              "    <tr>\n",
              "      <th>535233</th>\n",
              "      <td>8584637</td>\n",
              "      <td>1415638619</td>\n",
              "      <td>http://www.rubyraptor.org/how-we-made-raptor-u...</td>\n",
              "      <td>NaN</td>\n",
              "      <td>triskweline</td>\n",
              "      <td>8588290</td>\n",
              "      <td>Does it seem weird to anyone else that they&amp;#x...</td>\n",
              "      <td>bratsche</td>\n",
              "      <td>1</td>\n",
              "      <td>72</td>\n",
              "      <td>21</td>\n",
              "    </tr>\n",
              "    <tr>\n",
              "      <th>291186</th>\n",
              "      <td>7332402</td>\n",
              "      <td>1393829671</td>\n",
              "      <td>https://www.mtgox.com/?they_finally_provide_so...</td>\n",
              "      <td>NaN</td>\n",
              "      <td>sillysaurus3</td>\n",
              "      <td>7332645</td>\n",
              "      <td>I&amp;#x27;m troubled by the persistent societal t...</td>\n",
              "      <td>stevenh</td>\n",
              "      <td>3</td>\n",
              "      <td>29</td>\n",
              "      <td>16</td>\n",
              "    </tr>\n",
              "    <tr>\n",
              "      <th>768346</th>\n",
              "      <td>4216832</td>\n",
              "      <td>1341812011</td>\n",
              "      <td>NaN</td>\n",
              "      <td>I'm about to start on a cross-platform desktop...</td>\n",
              "      <td>metaxyy</td>\n",
              "      <td>4216932</td>\n",
              "      <td>Qt is probably pretty hard to beat in maturity...</td>\n",
              "      <td>randomdata</td>\n",
              "      <td>15</td>\n",
              "      <td>28</td>\n",
              "      <td>27</td>\n",
              "    </tr>\n",
              "    <tr>\n",
              "      <th>692206</th>\n",
              "      <td>5015119</td>\n",
              "      <td>1357442477</td>\n",
              "      <td>http://www.jsonline.com/features/health/online...</td>\n",
              "      <td>NaN</td>\n",
              "      <td>absconditus</td>\n",
              "      <td>5015371</td>\n",
              "      <td>I agree that it depends on the community. It's...</td>\n",
              "      <td>kafkaesque</td>\n",
              "      <td>1</td>\n",
              "      <td>49</td>\n",
              "      <td>13</td>\n",
              "    </tr>\n",
              "    <tr>\n",
              "      <th>603191</th>\n",
              "      <td>7107626</td>\n",
              "      <td>1390479282</td>\n",
              "      <td>NaN</td>\n",
              "      <td>I am in Italy and I need help. I hope there is...</td>\n",
              "      <td>watermel0n</td>\n",
              "      <td>7109217</td>\n",
              "      <td>Can&amp;#x27;t you go almost anywhere else in the EU?</td>\n",
              "      <td>debacle</td>\n",
              "      <td>58</td>\n",
              "      <td>1037</td>\n",
              "      <td>58</td>\n",
              "    </tr>\n",
              "    <tr>\n",
              "      <th>1072635</th>\n",
              "      <td>2255331</td>\n",
              "      <td>1298488549</td>\n",
              "      <td>http://blog.amirkhella.com/2011/02/23/what-i-w...</td>\n",
              "      <td>NaN</td>\n",
              "      <td>amirkhella</td>\n",
              "      <td>2256124</td>\n",
              "      <td>He's right.  The most important thing we tell ...</td>\n",
              "      <td>pg</td>\n",
              "      <td>0</td>\n",
              "      <td>3368</td>\n",
              "      <td>27</td>\n",
              "    </tr>\n",
              "    <tr>\n",
              "      <th>9387</th>\n",
              "      <td>1988926</td>\n",
              "      <td>1291925503</td>\n",
              "      <td>http://nathanmarz.com/blog/how-to-reject-a-job...</td>\n",
              "      <td>NaN</td>\n",
              "      <td>nathanmarz</td>\n",
              "      <td>1990622</td>\n",
              "      <td>I think the most frequent complaint of mine is...</td>\n",
              "      <td>desigooner</td>\n",
              "      <td>5</td>\n",
              "      <td>149</td>\n",
              "      <td>22</td>\n",
              "    </tr>\n",
              "  </tbody>\n",
              "</table>\n",
              "</div>"
            ],
            "text/plain": [
              "         story_id  story_time  ... author_comment_count story_comment_count\n",
              "407484    2682712  1308744269  ...                   52                  12\n",
              "538938    4247096  1342365640  ...                   17                  14\n",
              "242880    7364034  1394246581  ...                   29                  30\n",
              "535233    8584637  1415638619  ...                   72                  21\n",
              "291186    7332402  1393829671  ...                   29                  16\n",
              "768346    4216832  1341812011  ...                   28                  27\n",
              "692206    5015119  1357442477  ...                   49                  13\n",
              "603191    7107626  1390479282  ...                 1037                  58\n",
              "1072635   2255331  1298488549  ...                 3368                  27\n",
              "9387      1988926  1291925503  ...                  149                  22\n",
              "\n",
              "[10 rows x 11 columns]"
            ]
          },
          "metadata": {
            "tags": []
          },
          "execution_count": 2
        }
      ]
    },
    {
      "cell_type": "code",
      "metadata": {
        "id": "_qx7MhUt77Vd",
        "colab_type": "code",
        "colab": {
          "base_uri": "https://localhost:8080/",
          "height": 180
        },
        "outputId": "97e1e394-b588-49f3-c14d-deba54559a0b"
      },
      "source": [
        "# Defining test_comment\n",
        "test_comment = df['comment_text'][11]\n",
        "print(test_comment)\n",
        "print()\n",
        "\n",
        "# Remove HTML tags\n",
        "result_1 = re.sub(r'<.*?>', '', test_comment)\n",
        "\n",
        "# Remove URLS\n",
        "result_2 = re.sub('http[s]?(?:[a-zA-Z]|[0-9]|[$-_@.&+#]|[!*\\(\\),]|'\n",
        "                  '(?:%[0-9a-fA-F][0-9a-fA-F]))+', '', result_1)\n",
        "\n",
        "# Remove hexadecimal\n",
        "result_3 = re.sub(r'&.*?;', '', result_2)\n",
        "\n",
        "# Remove non-Ascii\n",
        "result_4 = ''.join(char for char in result_3 if ord(char) < 128)\n",
        "\n",
        "# Remove non-alphanumeric\n",
        "result_5 = re.sub('[^a-zA-Z0-9]', ' ', result_4)\n",
        "\n",
        "# email = re.compile('\\w+@\\w+\\.[a-z]{3}')\n",
        "result_5\n"
      ],
      "execution_count": null,
      "outputs": [
        {
          "output_type": "stream",
          "text": [
            "sharing.io<p>invoices.io<p>keys.io<p>fubar.io<p>tele.io<p>I've mentioned some of these before, but then decided I didn't want to part with some of them for \"maybe one day projects.\"  Not anymore; I'm just ready to be rid of them honestly.  I'll take $100 for any of them (buy them all for $400 ;)).  That won't really even cover the reg fees for as long as I've had them, but it'll recover a bit of the investment at least.<p>Just e-mail me (HN username at GMail) and we'll do it. :)\n",
            "\n"
          ],
          "name": "stdout"
        },
        {
          "output_type": "execute_result",
          "data": {
            "application/vnd.google.colaboratory.intrinsic+json": {
              "type": "string"
            },
            "text/plain": [
              "'sharing ioinvoices iokeys iofubar iotele ioI ve mentioned some of these before  but then decided I didn t want to part with some of them for  maybe one day projects    Not anymore  I m just ready to be rid of them honestly   I ll take  100 for any of them  buy them all for  400       That won t really even cover the reg fees for as long as I ve had them  but it ll recover a bit of the investment at least Just e mail me  HN username at GMail  and we ll do it    '"
            ]
          },
          "metadata": {
            "tags": []
          },
          "execution_count": 3
        }
      ]
    },
    {
      "cell_type": "code",
      "metadata": {
        "id": "optHBUi9Zoug",
        "colab_type": "code",
        "colab": {}
      },
      "source": [
        "# Data wrangling\n",
        "def wrangle(df, subset=200000, col='comment_text', random_state=99):\n",
        "    \"\"\"\n",
        "    Accepts a dataframe and returns a subset with no non-English,\n",
        "    non-alphanumeric characters in specified column. Default subset\n",
        "    is 200,000 rows randomly chosen, default column is 'comment_text',\n",
        "    and default random_state is 99.\n",
        "    \"\"\"\n",
        "\n",
        "    # Make shallow copy to preserve original\n",
        "    df = df[:]\n",
        "\n",
        "    # Subset data\n",
        "    df = df.sample(n=subset, random_state=random_state)\n",
        "\n",
        "    # Remove HTML tags\n",
        "    df[col] = df[col].apply(lambda comment: re.sub(r'<.*?>', '', comment))\n",
        "\n",
        "    # Remove URLs\n",
        "    df[col] = df[col].apply(lambda comment: re.sub(\n",
        "        r'http[s]?(?:[a-zA-Z]|[0-9]|[$-_@.&+#]|[!*\\(\\),]|'\n",
        "        '(?:%[0-9a-fA-F][0-9a-fA-F]))+', '', comment))\n",
        "\n",
        "    # Remove hexadecimal\n",
        "    df[col] = df[col].apply(\n",
        "      lambda comment: re.sub(r'&.*?;', '', comment))\n",
        "\n",
        "    # Remove non-ascii characters\n",
        "    df[col] = df[col].apply(\n",
        "      lambda comment: ''.join(char for char in comment if ord(char) < 128))\n",
        "\n",
        "    # Remove non-alphanumeric including punctuation but not whitspace\n",
        "    df[col] = df[col].apply(\n",
        "      lambda comment: re.sub('[^a-zA-Z0-9 ]', ' ', comment))\n",
        "\n",
        "    # Return subset cleaned dataframe\n",
        "    return df\n"
      ],
      "execution_count": null,
      "outputs": []
    },
    {
      "cell_type": "code",
      "metadata": {
        "id": "74ykZOK-uKCL",
        "colab_type": "code",
        "colab": {
          "base_uri": "https://localhost:8080/",
          "height": 212
        },
        "outputId": "c925d9d5-8b52-442d-c20a-eb6894a58f33"
      },
      "source": [
        "# Wrangling the cleaned data\n",
        "df_cleaned = wrangle(df)\n",
        "df_cleaned['comment_text'].sample(10)\n"
      ],
      "execution_count": null,
      "outputs": [
        {
          "output_type": "execute_result",
          "data": {
            "text/plain": [
              "1031141    Cucumbertown does this very well  They allow y...\n",
              "54769      Over 50  of this article is a job posting    I...\n",
              "359002     Google is located in an area where there aren ...\n",
              "1070188    I really wish the article explicitly explained...\n",
              "970692     I was having severe pain with this last month ...\n",
              "229694      On this day  I highlighted her workstation an...\n",
              "728108     We still have 2 client manager and 1 sales pos...\n",
              "1110051    There are several reasons why I dislike sports...\n",
              "391295     For those as confused as I was  it turns out y...\n",
              "542387             They should hire him in the Android team \n",
              "Name: comment_text, dtype: object"
            ]
          },
          "metadata": {
            "tags": []
          },
          "execution_count": 5
        }
      ]
    },
    {
      "cell_type": "code",
      "metadata": {
        "id": "WiV3dxuKep3c",
        "colab_type": "code",
        "colab": {
          "base_uri": "https://localhost:8080/",
          "height": 34
        },
        "outputId": "778e91e1-3165-46e4-d67d-f765f8ad9663"
      },
      "source": [
        "# Downloading resulting csv\n",
        "from google.colab import files\n",
        "\n",
        "df_cleaned.to_csv('cleaned_comments_2.csv', index=False)\n",
        "files.download('cleaned_comments_2.csv')\n"
      ],
      "execution_count": null,
      "outputs": [
        {
          "output_type": "display_data",
          "data": {
            "application/javascript": [
              "\n",
              "    async function download(id, filename, size) {\n",
              "      if (!google.colab.kernel.accessAllowed) {\n",
              "        return;\n",
              "      }\n",
              "      const div = document.createElement('div');\n",
              "      const label = document.createElement('label');\n",
              "      label.textContent = `Downloading \"${filename}\": `;\n",
              "      div.appendChild(label);\n",
              "      const progress = document.createElement('progress');\n",
              "      progress.max = size;\n",
              "      div.appendChild(progress);\n",
              "      document.body.appendChild(div);\n",
              "\n",
              "      const buffers = [];\n",
              "      let downloaded = 0;\n",
              "\n",
              "      const channel = await google.colab.kernel.comms.open(id);\n",
              "      // Send a message to notify the kernel that we're ready.\n",
              "      channel.send({})\n",
              "\n",
              "      for await (const message of channel.messages) {\n",
              "        // Send a message to notify the kernel that we're ready.\n",
              "        channel.send({})\n",
              "        if (message.buffers) {\n",
              "          for (const buffer of message.buffers) {\n",
              "            buffers.push(buffer);\n",
              "            downloaded += buffer.byteLength;\n",
              "            progress.value = downloaded;\n",
              "          }\n",
              "        }\n",
              "      }\n",
              "      const blob = new Blob(buffers, {type: 'application/binary'});\n",
              "      const a = document.createElement('a');\n",
              "      a.href = window.URL.createObjectURL(blob);\n",
              "      a.download = filename;\n",
              "      div.appendChild(a);\n",
              "      a.click();\n",
              "      div.remove();\n",
              "    }\n",
              "  "
            ],
            "text/plain": [
              "<IPython.core.display.Javascript object>"
            ]
          },
          "metadata": {
            "tags": []
          }
        },
        {
          "output_type": "display_data",
          "data": {
            "application/javascript": [
              "download(\"download_57a2beb4-97b9-494a-9767-b08d96e896df\", \"cleaned_comments_2.csv\", 123784873)"
            ],
            "text/plain": [
              "<IPython.core.display.Javascript object>"
            ]
          },
          "metadata": {
            "tags": []
          }
        }
      ]
    }
  ]
}