{
  "nbformat": 4,
  "nbformat_minor": 0,
  "metadata": {
    "colab": {
      "name": "unit_3_comment_cleaning",
      "provenance": [],
      "collapsed_sections": []
    },
    "kernelspec": {
      "name": "python3",
      "display_name": "Python 3"
    },
    "accelerator": "GPU"
  },
  "cells": [
    {
      "cell_type": "markdown",
      "metadata": {
        "id": "E7FGBfEWX4Yj",
        "colab_type": "text"
      },
      "source": [
        "# Imports"
      ]
    },
    {
      "cell_type": "code",
      "metadata": {
        "id": "9zxXRnqzXobh",
        "colab_type": "code",
        "colab": {}
      },
      "source": [
        "import pandas as pd    # To load the data\n",
        "import re              # To clean the data"
      ],
      "execution_count": null,
      "outputs": []
    },
    {
      "cell_type": "markdown",
      "metadata": {
        "id": "tvS_Ar5MZalT",
        "colab_type": "text"
      },
      "source": [
        "# Read in and display dataset"
      ]
    },
    {
      "cell_type": "code",
      "metadata": {
        "id": "nf26PquUZXhf",
        "colab_type": "code",
        "colab": {}
      },
      "source": [
        "dataset_url = 'https://zenodo.org/record/45901/files/hacker_news_comments.csv'\n",
        "df = pd.read_csv(dataset_url, encoding='utf-8')"
      ],
      "execution_count": null,
      "outputs": []
    },
    {
      "cell_type": "code",
      "metadata": {
        "id": "mRQrwkse7ZKu",
        "colab_type": "code",
        "colab": {
          "base_uri": "https://localhost:8080/",
          "height": 1000
        },
        "outputId": "affc5ee5-559f-46f2-fae1-8c8e1296e27a"
      },
      "source": [
        "print(df.info())\n",
        "df.sample(10)"
      ],
      "execution_count": null,
      "outputs": [
        {
          "output_type": "stream",
          "text": [
            "<class 'pandas.core.frame.DataFrame'>\n",
            "RangeIndex: 1165439 entries, 0 to 1165438\n",
            "Data columns (total 11 columns):\n",
            " #   Column                Non-Null Count    Dtype \n",
            "---  ------                --------------    ----- \n",
            " 0   story_id              1165439 non-null  int64 \n",
            " 1   story_time            1165439 non-null  int64 \n",
            " 2   story_url             987540 non-null   object\n",
            " 3   story_text            183381 non-null   object\n",
            " 4   story_author          1164932 non-null  object\n",
            " 5   comment_id            1165439 non-null  int64 \n",
            " 6   comment_text          1165439 non-null  object\n",
            " 7   comment_author        1165439 non-null  object\n",
            " 8   comment_ranking       1165439 non-null  int64 \n",
            " 9   author_comment_count  1165439 non-null  int64 \n",
            " 10  story_comment_count   1165439 non-null  int64 \n",
            "dtypes: int64(6), object(5)\n",
            "memory usage: 97.8+ MB\n",
            "None\n"
          ],
          "name": "stdout"
        },
        {
          "output_type": "execute_result",
          "data": {
            "text/html": [
              "<div>\n",
              "<style scoped>\n",
              "    .dataframe tbody tr th:only-of-type {\n",
              "        vertical-align: middle;\n",
              "    }\n",
              "\n",
              "    .dataframe tbody tr th {\n",
              "        vertical-align: top;\n",
              "    }\n",
              "\n",
              "    .dataframe thead th {\n",
              "        text-align: right;\n",
              "    }\n",
              "</style>\n",
              "<table border=\"1\" class=\"dataframe\">\n",
              "  <thead>\n",
              "    <tr style=\"text-align: right;\">\n",
              "      <th></th>\n",
              "      <th>story_id</th>\n",
              "      <th>story_time</th>\n",
              "      <th>story_url</th>\n",
              "      <th>story_text</th>\n",
              "      <th>story_author</th>\n",
              "      <th>comment_id</th>\n",
              "      <th>comment_text</th>\n",
              "      <th>comment_author</th>\n",
              "      <th>comment_ranking</th>\n",
              "      <th>author_comment_count</th>\n",
              "      <th>story_comment_count</th>\n",
              "    </tr>\n",
              "  </thead>\n",
              "  <tbody>\n",
              "    <tr>\n",
              "      <th>131439</th>\n",
              "      <td>10248203</td>\n",
              "      <td>1442768771</td>\n",
              "      <td>https://www.timeshighereducation.com/news/erns...</td>\n",
              "      <td>NaN</td>\n",
              "      <td>rcurry</td>\n",
              "      <td>10248360</td>\n",
              "      <td>The title for the HN submission is currently v...</td>\n",
              "      <td>jamessb</td>\n",
              "      <td>12</td>\n",
              "      <td>35</td>\n",
              "      <td>17</td>\n",
              "    </tr>\n",
              "    <tr>\n",
              "      <th>350621</th>\n",
              "      <td>6446077</td>\n",
              "      <td>1380131112</td>\n",
              "      <td>http://www.theguardian.com/world/2013/sep/25/r...</td>\n",
              "      <td>NaN</td>\n",
              "      <td>yapcguy</td>\n",
              "      <td>6446498</td>\n",
              "      <td>As referenced to in the article and highly rel...</td>\n",
              "      <td>vowelless</td>\n",
              "      <td>12</td>\n",
              "      <td>63</td>\n",
              "      <td>26</td>\n",
              "    </tr>\n",
              "    <tr>\n",
              "      <th>768891</th>\n",
              "      <td>3958627</td>\n",
              "      <td>1336734523</td>\n",
              "      <td>http://www.stallman.org/articles/asked_to_lie....</td>\n",
              "      <td>NaN</td>\n",
              "      <td>gulbrandr</td>\n",
              "      <td>3959360</td>\n",
              "      <td>Offtopic: I liked how minimalistic the site lo...</td>\n",
              "      <td>JBiserkov</td>\n",
              "      <td>12</td>\n",
              "      <td>92</td>\n",
              "      <td>50</td>\n",
              "    </tr>\n",
              "    <tr>\n",
              "      <th>1087875</th>\n",
              "      <td>9218213</td>\n",
              "      <td>1426603250</td>\n",
              "      <td>http://www.slideshare.net/Odersky/scala-days-s...</td>\n",
              "      <td>NaN</td>\n",
              "      <td>youroub</td>\n",
              "      <td>9218567</td>\n",
              "      <td>Is the compiler faster these days?</td>\n",
              "      <td>BonoboBoner</td>\n",
              "      <td>9</td>\n",
              "      <td>131</td>\n",
              "      <td>11</td>\n",
              "    </tr>\n",
              "    <tr>\n",
              "      <th>1111543</th>\n",
              "      <td>1464238</td>\n",
              "      <td>1277584225</td>\n",
              "      <td>NaN</td>\n",
              "      <td>Like a lot of HN hackers, I've been living and...</td>\n",
              "      <td>cageface</td>\n",
              "      <td>1464373</td>\n",
              "      <td>Anywhere in central California (the central va...</td>\n",
              "      <td>eam</td>\n",
              "      <td>12</td>\n",
              "      <td>121</td>\n",
              "      <td>31</td>\n",
              "    </tr>\n",
              "    <tr>\n",
              "      <th>872921</th>\n",
              "      <td>3943824</td>\n",
              "      <td>1336488098</td>\n",
              "      <td>NaN</td>\n",
              "      <td>(been on HN for half a decade, but posting ano...</td>\n",
              "      <td>thrwwy20120508</td>\n",
              "      <td>3944281</td>\n",
              "      <td>Shitty jobs happen. People don't always admit ...</td>\n",
              "      <td>michaelochurch</td>\n",
              "      <td>14</td>\n",
              "      <td>1441</td>\n",
              "      <td>55</td>\n",
              "    </tr>\n",
              "    <tr>\n",
              "      <th>744917</th>\n",
              "      <td>9415891</td>\n",
              "      <td>1429640114</td>\n",
              "      <td>http://automatetheboringstuff.com/</td>\n",
              "      <td>NaN</td>\n",
              "      <td>adamnemecek</td>\n",
              "      <td>9417394</td>\n",
              "      <td>This is kind of how I got my girlfriend intere...</td>\n",
              "      <td>akilism</td>\n",
              "      <td>10</td>\n",
              "      <td>52</td>\n",
              "      <td>17</td>\n",
              "    </tr>\n",
              "    <tr>\n",
              "      <th>746730</th>\n",
              "      <td>7801834</td>\n",
              "      <td>1401141263</td>\n",
              "      <td>https://medium.com/p/2a7af4788b10</td>\n",
              "      <td>NaN</td>\n",
              "      <td>coldtea</td>\n",
              "      <td>7803207</td>\n",
              "      <td>&amp;lt;offtopic&amp;gt;&lt;p&gt;+1 just for mentioning requ...</td>\n",
              "      <td>annnnd</td>\n",
              "      <td>15</td>\n",
              "      <td>77</td>\n",
              "      <td>44</td>\n",
              "    </tr>\n",
              "    <tr>\n",
              "      <th>485436</th>\n",
              "      <td>3313790</td>\n",
              "      <td>1323075356</td>\n",
              "      <td>http://me.veekun.com/blog/2011/12/04/fuck-pass...</td>\n",
              "      <td>NaN</td>\n",
              "      <td>vetler</td>\n",
              "      <td>3313938</td>\n",
              "      <td>Awesome rant.&lt;p&gt;In my mind, someone (browser v...</td>\n",
              "      <td>dprice1</td>\n",
              "      <td>9</td>\n",
              "      <td>16</td>\n",
              "      <td>60</td>\n",
              "    </tr>\n",
              "    <tr>\n",
              "      <th>446092</th>\n",
              "      <td>549298</td>\n",
              "      <td>1239041799</td>\n",
              "      <td>http://www.tapinko.com</td>\n",
              "      <td>NaN</td>\n",
              "      <td>keltecp11</td>\n",
              "      <td>549626</td>\n",
              "      <td>I'm using Firefox 2.0.0.7, which I don't want ...</td>\n",
              "      <td>zavulon</td>\n",
              "      <td>21</td>\n",
              "      <td>209</td>\n",
              "      <td>27</td>\n",
              "    </tr>\n",
              "  </tbody>\n",
              "</table>\n",
              "</div>"
            ],
            "text/plain": [
              "         story_id  story_time  ... author_comment_count story_comment_count\n",
              "131439   10248203  1442768771  ...                   35                  17\n",
              "350621    6446077  1380131112  ...                   63                  26\n",
              "768891    3958627  1336734523  ...                   92                  50\n",
              "1087875   9218213  1426603250  ...                  131                  11\n",
              "1111543   1464238  1277584225  ...                  121                  31\n",
              "872921    3943824  1336488098  ...                 1441                  55\n",
              "744917    9415891  1429640114  ...                   52                  17\n",
              "746730    7801834  1401141263  ...                   77                  44\n",
              "485436    3313790  1323075356  ...                   16                  60\n",
              "446092     549298  1239041799  ...                  209                  27\n",
              "\n",
              "[10 rows x 11 columns]"
            ]
          },
          "metadata": {
            "tags": []
          },
          "execution_count": 3
        }
      ]
    },
    {
      "cell_type": "markdown",
      "metadata": {
        "id": "3l47g2EAaOxf",
        "colab_type": "text"
      },
      "source": [
        "# Step-by-step comment cleaning"
      ]
    },
    {
      "cell_type": "code",
      "metadata": {
        "id": "_qx7MhUt77Vd",
        "colab_type": "code",
        "colab": {
          "base_uri": "https://localhost:8080/",
          "height": 268
        },
        "outputId": "feb9c337-cd33-4eac-8a45-67b784e2ce57"
      },
      "source": [
        "test_comment = df['comment_text'][2]\n",
        "print(test_comment)\n",
        "print()\n",
        "\n",
        "# Remove HTML tags\n",
        "result_1 = re.sub(r'<.*?>', '', test_comment)\n",
        "\n",
        "# Remove URLS\n",
        "result_2 = re.sub('http[s]?(?:[a-zA-Z]|[0-9]|[$-_@.&+#]|[!*\\(\\),]|'\\\n",
        "                       '(?:%[0-9a-fA-F][0-9a-fA-F]))+','', result_1)\n",
        "\n",
        "# Remove hexadecimal\n",
        "result_3 = re.sub(r'&.*?;', '', result_2)\n",
        "\n",
        "# Remove non-Ascii\n",
        "result_4 = ''.join(char for char in result_3 if ord(char)<128)\n",
        "\n",
        "# Remove non-alphanumeric\n",
        "result_5 = re.sub('[^a-zA-Z0-9]', ' ', result_4)\n",
        "\n",
        "# email = re.compile('\\w+@\\w+\\.[a-z]{3}')\n",
        "result_5"
      ],
      "execution_count": null,
      "outputs": [
        {
          "output_type": "stream",
          "text": [
            "I like this a lot!<p>The research manuscript example is exciting. It would be great if authors could link directly to the part of a paper that they are citing and be able to open that up if you want to dive deeper. Linking methods to results to discussion for specific experiments would make reading through dense papers a lot easier, and maybe have a notation&#x2F;jargon definition section open at the same time. It&#x27;s almost like a tiling window manager for reading.<p>I&#x27;m a little bit concerned about how it looks on smaller screens. It looks fine on my work monitor but I only have a netbook at home right now and a lot of websites have overlapping elements that keep me from reading articles. I haven&#x27;t looked at this from that computer yet though. Maybe it would help to have collapsible columns if there are issues.<p>Good luck, I&#x27;m looking forward to seeing where this goes!\n",
            "\n"
          ],
          "name": "stdout"
        },
        {
          "output_type": "execute_result",
          "data": {
            "application/vnd.google.colaboratory.intrinsic+json": {
              "type": "string"
            },
            "text/plain": [
              "'I like this a lot The research manuscript example is exciting  It would be great if authors could link directly to the part of a paper that they are citing and be able to open that up if you want to dive deeper  Linking methods to results to discussion for specific experiments would make reading through dense papers a lot easier  and maybe have a notationjargon definition section open at the same time  Its almost like a tiling window manager for reading Im a little bit concerned about how it looks on smaller screens  It looks fine on my work monitor but I only have a netbook at home right now and a lot of websites have overlapping elements that keep me from reading articles  I havent looked at this from that computer yet though  Maybe it would help to have collapsible columns if there are issues Good luck  Im looking forward to seeing where this goes '"
            ]
          },
          "metadata": {
            "tags": []
          },
          "execution_count": 7
        }
      ]
    },
    {
      "cell_type": "code",
      "metadata": {
        "id": "optHBUi9Zoug",
        "colab_type": "code",
        "colab": {}
      },
      "source": [
        "def wrangle(df, subset=200000, col='comment_text', random_state=99):\n",
        "  \"\"\"\n",
        "  Accepts a dataframe and returns a subset with no non-English,\n",
        "  non-alphanumeric characters in specified column. Default subset\n",
        "  is 200,000 rows randomly chosen, default column is 'comment_text',\n",
        "  and default random_state is 99.\n",
        "  \"\"\"\n",
        "\n",
        "  # Make shallow copy to preserve original\n",
        "  df = df[:]\n",
        "\n",
        "  # Subset data\n",
        "  df = df.sample(n=subset, random_state=random_state)\n",
        "  \n",
        "  # Remove HTML tags\n",
        "  df[col] = df[col].apply(\n",
        "      lambda comment: re.sub(r'<.*?>', '', comment))\n",
        "  \n",
        "  # Remove URLs\n",
        "  df[col] = df[col].apply(\n",
        "      lambda comment: re.sub(r'http[s]?(?:[a-zA-Z]|[0-9]|[$-_@.&+#]|[!*\\(\\),]|'\\\n",
        "                       '(?:%[0-9a-fA-F][0-9a-fA-F]))+','', comment))\n",
        "  \n",
        "  # Remove hexadecimal\n",
        "  df[col] = df[col].apply(\n",
        "      lambda comment: re.sub(r'&.*?;', '', comment))\n",
        "  \n",
        "  # Remove non-ascii characters\n",
        "  df[col] = df[col].apply(\n",
        "      lambda comment: ''.join(char for char in comment if ord(char)<128))\n",
        "  \n",
        "  # Remove non-alphanumeric characters including punctuation but not whitspace\n",
        "  df[col] = df[col].apply(\n",
        "      lambda comment: re.sub('[^a-zA-Z0-9 ]', ' ', comment))\n",
        "\n",
        "  # Return subset cleaned dataframe\n",
        "  return df"
      ],
      "execution_count": null,
      "outputs": []
    },
    {
      "cell_type": "code",
      "metadata": {
        "id": "74ykZOK-uKCL",
        "colab_type": "code",
        "colab": {
          "base_uri": "https://localhost:8080/",
          "height": 212
        },
        "outputId": "c925d9d5-8b52-442d-c20a-eb6894a58f33"
      },
      "source": [
        "df_cleaned = wrangle(df)\n",
        "df_cleaned['comment_text'].sample(10)"
      ],
      "execution_count": null,
      "outputs": [
        {
          "output_type": "execute_result",
          "data": {
            "text/plain": [
              "1031141    Cucumbertown does this very well  They allow y...\n",
              "54769      Over 50  of this article is a job posting    I...\n",
              "359002     Google is located in an area where there aren ...\n",
              "1070188    I really wish the article explicitly explained...\n",
              "970692     I was having severe pain with this last month ...\n",
              "229694      On this day  I highlighted her workstation an...\n",
              "728108     We still have 2 client manager and 1 sales pos...\n",
              "1110051    There are several reasons why I dislike sports...\n",
              "391295     For those as confused as I was  it turns out y...\n",
              "542387             They should hire him in the Android team \n",
              "Name: comment_text, dtype: object"
            ]
          },
          "metadata": {
            "tags": []
          },
          "execution_count": 5
        }
      ]
    },
    {
      "cell_type": "code",
      "metadata": {
        "id": "WiV3dxuKep3c",
        "colab_type": "code",
        "colab": {
          "base_uri": "https://localhost:8080/",
          "height": 17
        },
        "outputId": "778e91e1-3165-46e4-d67d-f765f8ad9663"
      },
      "source": [
        "from google.colab import files\n",
        "\n",
        "df_cleaned.to_csv('cleaned_comments_2.csv', index=False)\n",
        "files.download('cleaned_comments_2.csv')"
      ],
      "execution_count": null,
      "outputs": [
        {
          "output_type": "display_data",
          "data": {
            "application/javascript": [
              "\n",
              "    async function download(id, filename, size) {\n",
              "      if (!google.colab.kernel.accessAllowed) {\n",
              "        return;\n",
              "      }\n",
              "      const div = document.createElement('div');\n",
              "      const label = document.createElement('label');\n",
              "      label.textContent = `Downloading \"${filename}\": `;\n",
              "      div.appendChild(label);\n",
              "      const progress = document.createElement('progress');\n",
              "      progress.max = size;\n",
              "      div.appendChild(progress);\n",
              "      document.body.appendChild(div);\n",
              "\n",
              "      const buffers = [];\n",
              "      let downloaded = 0;\n",
              "\n",
              "      const channel = await google.colab.kernel.comms.open(id);\n",
              "      // Send a message to notify the kernel that we're ready.\n",
              "      channel.send({})\n",
              "\n",
              "      for await (const message of channel.messages) {\n",
              "        // Send a message to notify the kernel that we're ready.\n",
              "        channel.send({})\n",
              "        if (message.buffers) {\n",
              "          for (const buffer of message.buffers) {\n",
              "            buffers.push(buffer);\n",
              "            downloaded += buffer.byteLength;\n",
              "            progress.value = downloaded;\n",
              "          }\n",
              "        }\n",
              "      }\n",
              "      const blob = new Blob(buffers, {type: 'application/binary'});\n",
              "      const a = document.createElement('a');\n",
              "      a.href = window.URL.createObjectURL(blob);\n",
              "      a.download = filename;\n",
              "      div.appendChild(a);\n",
              "      a.click();\n",
              "      div.remove();\n",
              "    }\n",
              "  "
            ],
            "text/plain": [
              "<IPython.core.display.Javascript object>"
            ]
          },
          "metadata": {
            "tags": []
          }
        },
        {
          "output_type": "display_data",
          "data": {
            "application/javascript": [
              "download(\"download_57a2beb4-97b9-494a-9767-b08d96e896df\", \"cleaned_comments_2.csv\", 123784873)"
            ],
            "text/plain": [
              "<IPython.core.display.Javascript object>"
            ]
          },
          "metadata": {
            "tags": []
          }
        }
      ]
    },
    {
      "cell_type": "code",
      "metadata": {
        "id": "pDSeeiMvwB3-",
        "colab_type": "code",
        "colab": {}
      },
      "source": [
        ""
      ],
      "execution_count": null,
      "outputs": []
    }
  ]
}