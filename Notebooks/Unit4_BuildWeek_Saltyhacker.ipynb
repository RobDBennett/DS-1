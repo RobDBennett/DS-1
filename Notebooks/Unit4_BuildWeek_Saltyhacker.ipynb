{
  "nbformat": 4,
  "nbformat_minor": 0,
  "metadata": {
    "colab": {
      "name": "Unit4-BuildWeek-Saltyhacker.ipynb",
      "provenance": [],
      "collapsed_sections": [],
      "machine_shape": "hm"
    },
    "kernelspec": {
      "name": "python3",
      "display_name": "Python 3"
    },
    "accelerator": "GPU"
  },
  "cells": [
    {
      "cell_type": "markdown",
      "metadata": {
        "id": "4jkSMwZUsPEn",
        "colab_type": "text"
      },
      "source": [
        "# Unit 4 - Who is the Saltiest Hacker?\n",
        "## Machine Learning Engineers: Rob Bennett & Hernan Echeverry\n"
      ]
    },
    {
      "cell_type": "markdown",
      "metadata": {
        "id": "Ja_0Qnz-ybI_",
        "colab_type": "text"
      },
      "source": [
        "##Initial model v nlp processes to determine sentiment. \n",
        "\n",
        "I've tried a few different approaches to the models below. Our initial push was to find a dataset to train a model and then deploy the model to a RapidAPI app for the backend to access. \n",
        "\n",
        "Our initial data was found here: https://zenodo.org/record/45901#.X0VTK8hKiUl "
      ]
    },
    {
      "cell_type": "code",
      "metadata": {
        "id": "UX2bvG5-14St",
        "colab_type": "code",
        "colab": {
          "base_uri": "https://localhost:8080/",
          "height": 34
        },
        "outputId": "be465df9-6783-4ab0-953d-019543193592"
      },
      "source": [
        "from google.colab import drive\n",
        "drive.mount('/content/drive')"
      ],
      "execution_count": null,
      "outputs": [
        {
          "output_type": "stream",
          "text": [
            "Drive already mounted at /content/drive; to attempt to forcibly remount, call drive.mount(\"/content/drive\", force_remount=True).\n"
          ],
          "name": "stdout"
        }
      ]
    },
    {
      "cell_type": "code",
      "metadata": {
        "id": "uUZXqWg4Sgxk",
        "colab_type": "code",
        "colab": {
          "base_uri": "https://localhost:8080/",
          "height": 207
        },
        "outputId": "e3f39267-aad8-4028-bd31-496df494f663"
      },
      "source": [
        "pip install vaderSentiment"
      ],
      "execution_count": null,
      "outputs": [
        {
          "output_type": "stream",
          "text": [
            "Collecting vaderSentiment\n",
            "\u001b[?25l  Downloading https://files.pythonhosted.org/packages/76/fc/310e16254683c1ed35eeb97386986d6c00bc29df17ce280aed64d55537e9/vaderSentiment-3.3.2-py2.py3-none-any.whl (125kB)\n",
            "\r\u001b[K     |██▋                             | 10kB 25.4MB/s eta 0:00:01\r\u001b[K     |█████▏                          | 20kB 3.3MB/s eta 0:00:01\r\u001b[K     |███████▉                        | 30kB 4.3MB/s eta 0:00:01\r\u001b[K     |██████████▍                     | 40kB 4.7MB/s eta 0:00:01\r\u001b[K     |█████████████                   | 51kB 3.9MB/s eta 0:00:01\r\u001b[K     |███████████████▋                | 61kB 4.4MB/s eta 0:00:01\r\u001b[K     |██████████████████▏             | 71kB 4.8MB/s eta 0:00:01\r\u001b[K     |████████████████████▉           | 81kB 5.2MB/s eta 0:00:01\r\u001b[K     |███████████████████████▍        | 92kB 5.6MB/s eta 0:00:01\r\u001b[K     |██████████████████████████      | 102kB 5.3MB/s eta 0:00:01\r\u001b[K     |████████████████████████████▋   | 112kB 5.3MB/s eta 0:00:01\r\u001b[K     |███████████████████████████████▏| 122kB 5.3MB/s eta 0:00:01\r\u001b[K     |████████████████████████████████| 133kB 5.3MB/s \n",
            "\u001b[?25hRequirement already satisfied: requests in /usr/local/lib/python3.6/dist-packages (from vaderSentiment) (2.23.0)\n",
            "Requirement already satisfied: idna<3,>=2.5 in /usr/local/lib/python3.6/dist-packages (from requests->vaderSentiment) (2.10)\n",
            "Requirement already satisfied: urllib3!=1.25.0,!=1.25.1,<1.26,>=1.21.1 in /usr/local/lib/python3.6/dist-packages (from requests->vaderSentiment) (1.24.3)\n",
            "Requirement already satisfied: chardet<4,>=3.0.2 in /usr/local/lib/python3.6/dist-packages (from requests->vaderSentiment) (3.0.4)\n",
            "Requirement already satisfied: certifi>=2017.4.17 in /usr/local/lib/python3.6/dist-packages (from requests->vaderSentiment) (2020.6.20)\n",
            "Installing collected packages: vaderSentiment\n",
            "Successfully installed vaderSentiment-3.3.2\n"
          ],
          "name": "stdout"
        }
      ]
    },
    {
      "cell_type": "markdown",
      "metadata": {
        "id": "KJskNEsEzkvv",
        "colab_type": "text"
      },
      "source": [
        "### Previous experience with NLP told me that a pre-trained model would save me a lot of time and heartache. I have done some research and VaderSentiment (aside from an awesome name), it has decent performance.\n",
        "\n",
        "Below are the functions I generated to apply some of these metrics to the comment text. "
      ]
    },
    {
      "cell_type": "code",
      "metadata": {
        "id": "9CiZEz0NSgzv",
        "colab_type": "code",
        "colab": {}
      },
      "source": [
        "# Imports and libraries\n",
        "import pandas as pd\n",
        "import vaderSentiment\n",
        "import tensorflow as tf\n",
        "from sklearn.pipeline import Pipeline\n",
        "from sklearn.model_selection import train_test_split\n",
        "import numpy as np\n",
        "import re\n",
        "import os\n",
        "from tensorflow.keras import layers\n",
        "from vaderSentiment.vaderSentiment import SentimentIntensityAnalyzer"
      ],
      "execution_count": null,
      "outputs": []
    },
    {
      "cell_type": "markdown",
      "metadata": {
        "id": "ybc1Srf0DWQz",
        "colab_type": "text"
      },
      "source": [
        "The rest of the team performed some extensive cleaning on a sampling of the initial 18 million row dataset. We have a 200k row, cleaned csv below, which I mounted to my drive for ease of reference."
      ]
    },
    {
      "cell_type": "code",
      "metadata": {
        "id": "Fb4N65imUvbT",
        "colab_type": "code",
        "colab": {}
      },
      "source": [
        "df = pd.read_csv('/content/drive/My Drive/cleaned_comments.csv')"
      ],
      "execution_count": null,
      "outputs": []
    },
    {
      "cell_type": "code",
      "metadata": {
        "id": "NEDYvh5ISg2G",
        "colab_type": "code",
        "colab": {
          "base_uri": "https://localhost:8080/",
          "height": 309
        },
        "outputId": "dc4eacd2-a947-4ad2-afd2-8588079210c7"
      },
      "source": [
        "df.head()"
      ],
      "execution_count": null,
      "outputs": [
        {
          "output_type": "execute_result",
          "data": {
            "text/html": [
              "<div>\n",
              "<style scoped>\n",
              "    .dataframe tbody tr th:only-of-type {\n",
              "        vertical-align: middle;\n",
              "    }\n",
              "\n",
              "    .dataframe tbody tr th {\n",
              "        vertical-align: top;\n",
              "    }\n",
              "\n",
              "    .dataframe thead th {\n",
              "        text-align: right;\n",
              "    }\n",
              "</style>\n",
              "<table border=\"1\" class=\"dataframe\">\n",
              "  <thead>\n",
              "    <tr style=\"text-align: right;\">\n",
              "      <th></th>\n",
              "      <th>story_id</th>\n",
              "      <th>story_time</th>\n",
              "      <th>story_url</th>\n",
              "      <th>story_text</th>\n",
              "      <th>story_author</th>\n",
              "      <th>comment_id</th>\n",
              "      <th>comment_text</th>\n",
              "      <th>comment_author</th>\n",
              "      <th>comment_ranking</th>\n",
              "      <th>author_comment_count</th>\n",
              "      <th>story_comment_count</th>\n",
              "    </tr>\n",
              "  </thead>\n",
              "  <tbody>\n",
              "    <tr>\n",
              "      <th>0</th>\n",
              "      <td>4941692</td>\n",
              "      <td>1355906280</td>\n",
              "      <td>http://blog.vincentlaforet.com/2012/12/19/the-...</td>\n",
              "      <td>NaN</td>\n",
              "      <td>aaronbrethorst</td>\n",
              "      <td>4942376</td>\n",
              "      <td>Meh I think it will just take time before peop...</td>\n",
              "      <td>polyfractal</td>\n",
              "      <td>28</td>\n",
              "      <td>226</td>\n",
              "      <td>57</td>\n",
              "    </tr>\n",
              "    <tr>\n",
              "      <th>1</th>\n",
              "      <td>7559692</td>\n",
              "      <td>1397055696</td>\n",
              "      <td>http://m.motherjones.com/politics/2014/04/inqu...</td>\n",
              "      <td>NaN</td>\n",
              "      <td>fixedd</td>\n",
              "      <td>7559855</td>\n",
              "      <td>Some other features that can help classify a l...</td>\n",
              "      <td>a8da6b0c91d</td>\n",
              "      <td>11</td>\n",
              "      <td>98</td>\n",
              "      <td>12</td>\n",
              "    </tr>\n",
              "    <tr>\n",
              "      <th>2</th>\n",
              "      <td>3348011</td>\n",
              "      <td>1323794108</td>\n",
              "      <td>http://blog.macromates.com/2011/textmate-2-0-a...</td>\n",
              "      <td>NaN</td>\n",
              "      <td>fredleblanc</td>\n",
              "      <td>3348087</td>\n",
              "      <td>List of changes httpmacromatescomchanges</td>\n",
              "      <td>c4urself</td>\n",
              "      <td>18</td>\n",
              "      <td>78</td>\n",
              "      <td>30</td>\n",
              "    </tr>\n",
              "    <tr>\n",
              "      <th>3</th>\n",
              "      <td>6702077</td>\n",
              "      <td>1384014431</td>\n",
              "      <td>http://exploresion.org</td>\n",
              "      <td>NaN</td>\n",
              "      <td>slashdotaccount</td>\n",
              "      <td>6702761</td>\n",
              "      <td>Perhaps this uses DBpedia httpx2Fx2Fwikidbpedi...</td>\n",
              "      <td>roryokane</td>\n",
              "      <td>0</td>\n",
              "      <td>204</td>\n",
              "      <td>21</td>\n",
              "    </tr>\n",
              "    <tr>\n",
              "      <th>4</th>\n",
              "      <td>2877563</td>\n",
              "      <td>1313161720</td>\n",
              "      <td>http://web.mit.edu/newsoffice/2011/introductio...</td>\n",
              "      <td>NaN</td>\n",
              "      <td>ilamont</td>\n",
              "      <td>2877872</td>\n",
              "      <td>Its strange  the article talks about it being ...</td>\n",
              "      <td>marshray</td>\n",
              "      <td>6</td>\n",
              "      <td>368</td>\n",
              "      <td>14</td>\n",
              "    </tr>\n",
              "  </tbody>\n",
              "</table>\n",
              "</div>"
            ],
            "text/plain": [
              "   story_id  story_time  ... author_comment_count story_comment_count\n",
              "0   4941692  1355906280  ...                  226                  57\n",
              "1   7559692  1397055696  ...                   98                  12\n",
              "2   3348011  1323794108  ...                   78                  30\n",
              "3   6702077  1384014431  ...                  204                  21\n",
              "4   2877563  1313161720  ...                  368                  14\n",
              "\n",
              "[5 rows x 11 columns]"
            ]
          },
          "metadata": {
            "tags": []
          },
          "execution_count": 6
        }
      ]
    },
    {
      "cell_type": "markdown",
      "metadata": {
        "id": "mxV7qPLJtVV6",
        "colab_type": "text"
      },
      "source": [
        "## Creating a function to get positive, neutral and negative scoring based on the sentiment analysis"
      ]
    },
    {
      "cell_type": "code",
      "metadata": {
        "id": "jiAb5ShaSg8J",
        "colab_type": "code",
        "colab": {}
      },
      "source": [
        "# This is the original function that assigns a word-score to a sentence.\n",
        "\n",
        "def sentiment_scores(sentence): \n",
        "  \n",
        "    # Create a SentimentIntensityAnalyzer object. \n",
        "    sid_obj = SentimentIntensityAnalyzer() \n",
        "  \n",
        "    # polarity_scores method of SentimentIntensityAnalyzer \n",
        "    # oject gives a sentiment dictionary. \n",
        "    # which contains pos, neg, neu, and compound scores. \n",
        "    sentiment_dict = sid_obj.polarity_scores(sentence) \n",
        "      \n",
        "#    print(\"Overall sentiment dictionary is : \", sentiment_dict) \n",
        "#    print(\"sentence was rated as \", sentiment_dict['neg']*100, \"% Negative\") \n",
        "#    print(\"sentence was rated as \", sentiment_dict['neu']*100, \"% Neutral\") \n",
        "#    print(\"sentence was rated as \", sentiment_dict['pos']*100, \"% Positive\") \n",
        "  \n",
        "#    print(\"Sentence Overall Rated As\", end = \" \") \n",
        "  \n",
        "    # decide sentiment as positive, negative and neutral \n",
        "    if sentiment_dict['compound'] >= 0.05 : \n",
        "        return \"Positive\" \n",
        "  \n",
        "    elif sentiment_dict['compound'] <= - 0.05 : \n",
        "        return \"Negative\" \n",
        "  \n",
        "    else : \n",
        "        return \"Neutral\" \n",
        "  \n"
      ],
      "execution_count": null,
      "outputs": []
    },
    {
      "cell_type": "markdown",
      "metadata": {
        "id": "D7CGNXIpDt4o",
        "colab_type": "text"
      },
      "source": [
        "## These are the secondary functions which I am leaning on us using currently\n",
        "## They give the math values rather than word values."
      ]
    },
    {
      "cell_type": "code",
      "metadata": {
        "id": "85BRLHjm-QAZ",
        "colab_type": "code",
        "colab": {}
      },
      "source": [
        "# Preprocessing and sentiment analysis functions\n",
        "def preprocessing(df):\n",
        "    df = df[df['comment_text'].notna()]\n",
        "    df['neg'], df['neu'], df['pos'], df[\"compound\"] = [np.nan, np.nan,np.nan,np.nan]    \n",
        "    return df\n",
        "\n",
        "def sentiment_analysis(df):\n",
        "    df['neg'], df['neu'], df['pos'], df[\"compound\"] = [np.nan, np.nan,np.nan,np.nan]\n",
        "    sid = SentimentIntensityAnalyzer()\n",
        "    for i, row in df.iterrows():\n",
        "        text = row[\"comment_text\"]\n",
        "        df.at[i,\"comment_text\"] = text\n",
        "        ss = sid.polarity_scores(text)\n",
        "        for k in ss:\n",
        "            df.at[i,k] = ss[k]"
      ],
      "execution_count": null,
      "outputs": []
    },
    {
      "cell_type": "code",
      "metadata": {
        "id": "9xdcUiZV-ShY",
        "colab_type": "code",
        "colab": {
          "base_uri": "https://localhost:8080/",
          "height": 317
        },
        "outputId": "bd5b8ffe-7bd9-44df-a468-d6654db7afb4"
      },
      "source": [
        "# Looking at the processed dataframe\n",
        "df = preprocess_df(df)\n",
        "sentiment_analysis(df)\n",
        "df.describe()"
      ],
      "execution_count": null,
      "outputs": [
        {
          "output_type": "execute_result",
          "data": {
            "text/html": [
              "<div>\n",
              "<style scoped>\n",
              "    .dataframe tbody tr th:only-of-type {\n",
              "        vertical-align: middle;\n",
              "    }\n",
              "\n",
              "    .dataframe tbody tr th {\n",
              "        vertical-align: top;\n",
              "    }\n",
              "\n",
              "    .dataframe thead th {\n",
              "        text-align: right;\n",
              "    }\n",
              "</style>\n",
              "<table border=\"1\" class=\"dataframe\">\n",
              "  <thead>\n",
              "    <tr style=\"text-align: right;\">\n",
              "      <th></th>\n",
              "      <th>story_id</th>\n",
              "      <th>story_time</th>\n",
              "      <th>comment_id</th>\n",
              "      <th>comment_ranking</th>\n",
              "      <th>author_comment_count</th>\n",
              "      <th>story_comment_count</th>\n",
              "      <th>neg</th>\n",
              "      <th>neu</th>\n",
              "      <th>pos</th>\n",
              "      <th>compound</th>\n",
              "    </tr>\n",
              "  </thead>\n",
              "  <tbody>\n",
              "    <tr>\n",
              "      <th>count</th>\n",
              "      <td>2.000000e+02</td>\n",
              "      <td>2.000000e+02</td>\n",
              "      <td>2.000000e+02</td>\n",
              "      <td>200.000000</td>\n",
              "      <td>200.000000</td>\n",
              "      <td>200.000000</td>\n",
              "      <td>200.000000</td>\n",
              "      <td>200.000000</td>\n",
              "      <td>200.000000</td>\n",
              "      <td>200.000000</td>\n",
              "    </tr>\n",
              "    <tr>\n",
              "      <th>mean</th>\n",
              "      <td>5.194671e+06</td>\n",
              "      <td>1.352291e+09</td>\n",
              "      <td>5.195429e+06</td>\n",
              "      <td>16.150000</td>\n",
              "      <td>299.985000</td>\n",
              "      <td>35.510000</td>\n",
              "      <td>0.053530</td>\n",
              "      <td>0.826465</td>\n",
              "      <td>0.119970</td>\n",
              "      <td>0.287680</td>\n",
              "    </tr>\n",
              "    <tr>\n",
              "      <th>std</th>\n",
              "      <td>2.834398e+06</td>\n",
              "      <td>5.744857e+07</td>\n",
              "      <td>2.834549e+06</td>\n",
              "      <td>45.405128</td>\n",
              "      <td>494.251614</td>\n",
              "      <td>77.889949</td>\n",
              "      <td>0.064755</td>\n",
              "      <td>0.122983</td>\n",
              "      <td>0.111952</td>\n",
              "      <td>0.514239</td>\n",
              "    </tr>\n",
              "    <tr>\n",
              "      <th>min</th>\n",
              "      <td>9.244100e+04</td>\n",
              "      <td>1.198516e+09</td>\n",
              "      <td>9.251500e+04</td>\n",
              "      <td>0.000000</td>\n",
              "      <td>11.000000</td>\n",
              "      <td>11.000000</td>\n",
              "      <td>0.000000</td>\n",
              "      <td>0.213000</td>\n",
              "      <td>0.000000</td>\n",
              "      <td>-0.944900</td>\n",
              "    </tr>\n",
              "    <tr>\n",
              "      <th>25%</th>\n",
              "      <td>2.758964e+06</td>\n",
              "      <td>1.310557e+09</td>\n",
              "      <td>2.759658e+06</td>\n",
              "      <td>5.000000</td>\n",
              "      <td>42.000000</td>\n",
              "      <td>14.000000</td>\n",
              "      <td>0.000000</td>\n",
              "      <td>0.748250</td>\n",
              "      <td>0.049500</td>\n",
              "      <td>0.000000</td>\n",
              "    </tr>\n",
              "    <tr>\n",
              "      <th>50%</th>\n",
              "      <td>5.387452e+06</td>\n",
              "      <td>1.363414e+09</td>\n",
              "      <td>5.387574e+06</td>\n",
              "      <td>9.000000</td>\n",
              "      <td>113.500000</td>\n",
              "      <td>20.000000</td>\n",
              "      <td>0.033000</td>\n",
              "      <td>0.841500</td>\n",
              "      <td>0.105500</td>\n",
              "      <td>0.378700</td>\n",
              "    </tr>\n",
              "    <tr>\n",
              "      <th>75%</th>\n",
              "      <td>7.377534e+06</td>\n",
              "      <td>1.394514e+09</td>\n",
              "      <td>7.377794e+06</td>\n",
              "      <td>16.000000</td>\n",
              "      <td>356.000000</td>\n",
              "      <td>30.000000</td>\n",
              "      <td>0.092250</td>\n",
              "      <td>0.908250</td>\n",
              "      <td>0.153500</td>\n",
              "      <td>0.716775</td>\n",
              "    </tr>\n",
              "    <tr>\n",
              "      <th>max</th>\n",
              "      <td>1.031395e+07</td>\n",
              "      <td>1.443727e+09</td>\n",
              "      <td>1.031505e+07</td>\n",
              "      <td>606.000000</td>\n",
              "      <td>3224.000000</td>\n",
              "      <td>791.000000</td>\n",
              "      <td>0.415000</td>\n",
              "      <td>1.000000</td>\n",
              "      <td>0.787000</td>\n",
              "      <td>0.995100</td>\n",
              "    </tr>\n",
              "  </tbody>\n",
              "</table>\n",
              "</div>"
            ],
            "text/plain": [
              "           story_id    story_time  ...         pos    compound\n",
              "count  2.000000e+02  2.000000e+02  ...  200.000000  200.000000\n",
              "mean   5.194671e+06  1.352291e+09  ...    0.119970    0.287680\n",
              "std    2.834398e+06  5.744857e+07  ...    0.111952    0.514239\n",
              "min    9.244100e+04  1.198516e+09  ...    0.000000   -0.944900\n",
              "25%    2.758964e+06  1.310557e+09  ...    0.049500    0.000000\n",
              "50%    5.387452e+06  1.363414e+09  ...    0.105500    0.378700\n",
              "75%    7.377534e+06  1.394514e+09  ...    0.153500    0.716775\n",
              "max    1.031395e+07  1.443727e+09  ...    0.787000    0.995100\n",
              "\n",
              "[8 rows x 10 columns]"
            ]
          },
          "metadata": {
            "tags": []
          },
          "execution_count": 33
        }
      ]
    },
    {
      "cell_type": "code",
      "metadata": {
        "id": "4qFnqt5e_Rpw",
        "colab_type": "code",
        "colab": {
          "base_uri": "https://localhost:8080/",
          "height": 309
        },
        "outputId": "7114f91c-b11e-42d4-cae3-52c17f6066b9"
      },
      "source": [
        "df.head()"
      ],
      "execution_count": null,
      "outputs": [
        {
          "output_type": "execute_result",
          "data": {
            "text/html": [
              "<div>\n",
              "<style scoped>\n",
              "    .dataframe tbody tr th:only-of-type {\n",
              "        vertical-align: middle;\n",
              "    }\n",
              "\n",
              "    .dataframe tbody tr th {\n",
              "        vertical-align: top;\n",
              "    }\n",
              "\n",
              "    .dataframe thead th {\n",
              "        text-align: right;\n",
              "    }\n",
              "</style>\n",
              "<table border=\"1\" class=\"dataframe\">\n",
              "  <thead>\n",
              "    <tr style=\"text-align: right;\">\n",
              "      <th></th>\n",
              "      <th>story_id</th>\n",
              "      <th>story_time</th>\n",
              "      <th>story_url</th>\n",
              "      <th>story_text</th>\n",
              "      <th>story_author</th>\n",
              "      <th>comment_id</th>\n",
              "      <th>comment_text</th>\n",
              "      <th>comment_author</th>\n",
              "      <th>comment_ranking</th>\n",
              "      <th>author_comment_count</th>\n",
              "      <th>story_comment_count</th>\n",
              "      <th>neg</th>\n",
              "      <th>neu</th>\n",
              "      <th>pos</th>\n",
              "      <th>compound</th>\n",
              "    </tr>\n",
              "  </thead>\n",
              "  <tbody>\n",
              "    <tr>\n",
              "      <th>0</th>\n",
              "      <td>4941692</td>\n",
              "      <td>1355906280</td>\n",
              "      <td>http://blog.vincentlaforet.com/2012/12/19/the-...</td>\n",
              "      <td>NaN</td>\n",
              "      <td>aaronbrethorst</td>\n",
              "      <td>4942376</td>\n",
              "      <td>Meh I think it will just take time before peop...</td>\n",
              "      <td>polyfractal</td>\n",
              "      <td>28</td>\n",
              "      <td>226</td>\n",
              "      <td>57</td>\n",
              "      <td>0.018</td>\n",
              "      <td>0.908</td>\n",
              "      <td>0.074</td>\n",
              "      <td>0.6154</td>\n",
              "    </tr>\n",
              "    <tr>\n",
              "      <th>1</th>\n",
              "      <td>7559692</td>\n",
              "      <td>1397055696</td>\n",
              "      <td>http://m.motherjones.com/politics/2014/04/inqu...</td>\n",
              "      <td>NaN</td>\n",
              "      <td>fixedd</td>\n",
              "      <td>7559855</td>\n",
              "      <td>Some other features that can help classify a l...</td>\n",
              "      <td>a8da6b0c91d</td>\n",
              "      <td>11</td>\n",
              "      <td>98</td>\n",
              "      <td>12</td>\n",
              "      <td>0.113</td>\n",
              "      <td>0.639</td>\n",
              "      <td>0.248</td>\n",
              "      <td>0.6486</td>\n",
              "    </tr>\n",
              "    <tr>\n",
              "      <th>2</th>\n",
              "      <td>3348011</td>\n",
              "      <td>1323794108</td>\n",
              "      <td>http://blog.macromates.com/2011/textmate-2-0-a...</td>\n",
              "      <td>NaN</td>\n",
              "      <td>fredleblanc</td>\n",
              "      <td>3348087</td>\n",
              "      <td>List of changes httpmacromatescomchanges</td>\n",
              "      <td>c4urself</td>\n",
              "      <td>18</td>\n",
              "      <td>78</td>\n",
              "      <td>30</td>\n",
              "      <td>0.000</td>\n",
              "      <td>1.000</td>\n",
              "      <td>0.000</td>\n",
              "      <td>0.0000</td>\n",
              "    </tr>\n",
              "    <tr>\n",
              "      <th>3</th>\n",
              "      <td>6702077</td>\n",
              "      <td>1384014431</td>\n",
              "      <td>http://exploresion.org</td>\n",
              "      <td>NaN</td>\n",
              "      <td>slashdotaccount</td>\n",
              "      <td>6702761</td>\n",
              "      <td>Perhaps this uses DBpedia httpx2Fx2Fwikidbpedi...</td>\n",
              "      <td>roryokane</td>\n",
              "      <td>0</td>\n",
              "      <td>204</td>\n",
              "      <td>21</td>\n",
              "      <td>0.050</td>\n",
              "      <td>0.950</td>\n",
              "      <td>0.000</td>\n",
              "      <td>-0.0258</td>\n",
              "    </tr>\n",
              "    <tr>\n",
              "      <th>4</th>\n",
              "      <td>2877563</td>\n",
              "      <td>1313161720</td>\n",
              "      <td>http://web.mit.edu/newsoffice/2011/introductio...</td>\n",
              "      <td>NaN</td>\n",
              "      <td>ilamont</td>\n",
              "      <td>2877872</td>\n",
              "      <td>Its strange  the article talks about it being ...</td>\n",
              "      <td>marshray</td>\n",
              "      <td>6</td>\n",
              "      <td>368</td>\n",
              "      <td>14</td>\n",
              "      <td>0.051</td>\n",
              "      <td>0.876</td>\n",
              "      <td>0.073</td>\n",
              "      <td>0.1531</td>\n",
              "    </tr>\n",
              "  </tbody>\n",
              "</table>\n",
              "</div>"
            ],
            "text/plain": [
              "   story_id  story_time  ...    pos compound\n",
              "0   4941692  1355906280  ...  0.074   0.6154\n",
              "1   7559692  1397055696  ...  0.248   0.6486\n",
              "2   3348011  1323794108  ...  0.000   0.0000\n",
              "3   6702077  1384014431  ...  0.000  -0.0258\n",
              "4   2877563  1313161720  ...  0.073   0.1531\n",
              "\n",
              "[5 rows x 15 columns]"
            ]
          },
          "metadata": {
            "tags": []
          },
          "execution_count": 30
        }
      ]
    },
    {
      "cell_type": "code",
      "metadata": {
        "id": "Fc-BwDuXeVNJ",
        "colab_type": "code",
        "colab": {
          "base_uri": "https://localhost:8080/",
          "height": 35
        },
        "outputId": "24ea3746-ad1a-460a-eb08-17c60eebb6f7"
      },
      "source": [
        "# Checking out row 1 of the data frame\n",
        "df['comment_text'][0]"
      ],
      "execution_count": null,
      "outputs": [
        {
          "output_type": "execute_result",
          "data": {
            "application/vnd.google.colaboratory.intrinsic+json": {
              "type": "string"
            },
            "text/plain": [
              "'Makes sense for Verizon, and if they are being greedy, others will step in to fill the void.'"
            ]
          },
          "metadata": {
            "tags": []
          },
          "execution_count": 5
        }
      ]
    },
    {
      "cell_type": "code",
      "metadata": {
        "id": "5ya9RWRdfJxH",
        "colab_type": "code",
        "colab": {
          "base_uri": "https://localhost:8080/",
          "height": 35
        },
        "outputId": "4124429d-98ef-4f87-ac7b-975cfdab66f1"
      },
      "source": [
        "# Checking the first value of for sentiment\n",
        "sentiment_scores(df['comment_text'][0])"
      ],
      "execution_count": null,
      "outputs": [
        {
          "output_type": "execute_result",
          "data": {
            "application/vnd.google.colaboratory.intrinsic+json": {
              "type": "string"
            },
            "text/plain": [
              "'Negative'"
            ]
          },
          "metadata": {
            "tags": []
          },
          "execution_count": 8
        }
      ]
    },
    {
      "cell_type": "markdown",
      "metadata": {
        "id": "q7mdM4DsD43b",
        "colab_type": "text"
      },
      "source": [
        "## For my initial neural network, I explored the dataset and just ran sentiment on each of the comments in order to generate a y value for training. This ultimately yielded poor results, but here is the effort made."
      ]
    },
    {
      "cell_type": "code",
      "metadata": {
        "id": "pL7YGgEfiSSD",
        "colab_type": "code",
        "colab": {}
      },
      "source": [
        "# Creating a method to ensure there are 200,000 results\n",
        "counter= 0\n",
        "sentiment = []\n",
        "for text in range(200000):\n",
        "  sentiment.append(sentiment_scores(df['comment_text'][text]))\n",
        "  counter += 1\n",
        "  print(counter)\n"
      ],
      "execution_count": null,
      "outputs": []
    },
    {
      "cell_type": "code",
      "metadata": {
        "id": "PMOj7UlMj3F5",
        "colab_type": "code",
        "colab": {
          "base_uri": "https://localhost:8080/",
          "height": 34
        },
        "outputId": "a366934d-7d0c-4682-d6f8-1a1233ca5c42"
      },
      "source": [
        "len(sentiment)"
      ],
      "execution_count": null,
      "outputs": [
        {
          "output_type": "execute_result",
          "data": {
            "text/plain": [
              "200000"
            ]
          },
          "metadata": {
            "tags": []
          },
          "execution_count": 10
        }
      ]
    },
    {
      "cell_type": "code",
      "metadata": {
        "id": "tpSix9wrQP-4",
        "colab_type": "code",
        "colab": {
          "base_uri": "https://localhost:8080/",
          "height": 391
        },
        "outputId": "b3af5116-27d4-44a5-ca67-e33c79c83429"
      },
      "source": [
        "# Looking at the size of the dataframe and the values within\n",
        "print(df.shape)\n",
        "df['comment_author'].value_counts().head(20)"
      ],
      "execution_count": null,
      "outputs": [
        {
          "output_type": "stream",
          "text": [
            "(200000, 11)\n"
          ],
          "name": "stdout"
        },
        {
          "output_type": "execute_result",
          "data": {
            "text/plain": [
              "tptacek           367\n",
              "ChuckMcM          342\n",
              "ck2               317\n",
              "jacquesm          302\n",
              "DanielBMarkham    264\n",
              "tokenadult        258\n",
              "rdl               254\n",
              "Tichy             247\n",
              "jrockway          242\n",
              "davidw            241\n",
              "edw519            230\n",
              "patio11           229\n",
              "petercooper       226\n",
              "danso             225\n",
              "DanBC             216\n",
              "bane              214\n",
              "known             211\n",
              "gojomo            210\n",
              "brudgers          201\n",
              "stcredzero        193\n",
              "Name: comment_author, dtype: int64"
            ]
          },
          "metadata": {
            "tags": []
          },
          "execution_count": 11
        }
      ]
    },
    {
      "cell_type": "markdown",
      "metadata": {
        "id": "3IhIjXb4v-UH",
        "colab_type": "text"
      },
      "source": [
        "## Making features and some additional cleaning"
      ]
    },
    {
      "cell_type": "code",
      "metadata": {
        "id": "E3nWs8i3Wroq",
        "colab_type": "code",
        "colab": {}
      },
      "source": [
        "# Engineering a feature called 'sentiment'\n",
        "df['sentiment'] = sentiment"
      ],
      "execution_count": null,
      "outputs": []
    },
    {
      "cell_type": "code",
      "metadata": {
        "id": "hHADYSWuiONM",
        "colab_type": "code",
        "colab": {
          "base_uri": "https://localhost:8080/",
          "height": 85
        },
        "outputId": "d5745841-e1df-4719-a382-e0ff108c91f3"
      },
      "source": [
        "# Looking at the values of the new column\n",
        "df['sentiment'].value_counts()"
      ],
      "execution_count": null,
      "outputs": [
        {
          "output_type": "execute_result",
          "data": {
            "text/plain": [
              "Positive    124601\n",
              "Negative     46226\n",
              "Neutral      29173\n",
              "Name: sentiment, dtype: int64"
            ]
          },
          "metadata": {
            "tags": []
          },
          "execution_count": 13
        }
      ]
    },
    {
      "cell_type": "code",
      "metadata": {
        "id": "xTguMPZMikMg",
        "colab_type": "code",
        "colab": {
          "base_uri": "https://localhost:8080/",
          "height": 289
        },
        "outputId": "6be4199d-c62d-4dbb-b084-9627f8178841"
      },
      "source": [
        "# Dropping unnecessary columns\n",
        "to_drop = ['story_id', 'story_time', 'story_url', 'story_text', 'story_author']\n",
        "df = df.drop(columns=to_drop)\n",
        "df.head()"
      ],
      "execution_count": null,
      "outputs": [
        {
          "output_type": "execute_result",
          "data": {
            "text/html": [
              "<div>\n",
              "<style scoped>\n",
              "    .dataframe tbody tr th:only-of-type {\n",
              "        vertical-align: middle;\n",
              "    }\n",
              "\n",
              "    .dataframe tbody tr th {\n",
              "        vertical-align: top;\n",
              "    }\n",
              "\n",
              "    .dataframe thead th {\n",
              "        text-align: right;\n",
              "    }\n",
              "</style>\n",
              "<table border=\"1\" class=\"dataframe\">\n",
              "  <thead>\n",
              "    <tr style=\"text-align: right;\">\n",
              "      <th></th>\n",
              "      <th>comment_id</th>\n",
              "      <th>comment_text</th>\n",
              "      <th>comment_author</th>\n",
              "      <th>comment_ranking</th>\n",
              "      <th>author_comment_count</th>\n",
              "      <th>story_comment_count</th>\n",
              "      <th>sentiment</th>\n",
              "    </tr>\n",
              "  </thead>\n",
              "  <tbody>\n",
              "    <tr>\n",
              "      <th>0</th>\n",
              "      <td>3985756</td>\n",
              "      <td>Makes sense for Verizon, and if they are being...</td>\n",
              "      <td>Quizzy</td>\n",
              "      <td>10</td>\n",
              "      <td>11</td>\n",
              "      <td>13</td>\n",
              "      <td>Negative</td>\n",
              "    </tr>\n",
              "    <tr>\n",
              "      <th>1</th>\n",
              "      <td>2481521</td>\n",
              "      <td>\"Made to play\" is a contradiction.</td>\n",
              "      <td>petervandijck</td>\n",
              "      <td>9</td>\n",
              "      <td>1125</td>\n",
              "      <td>16</td>\n",
              "      <td>Positive</td>\n",
              "    </tr>\n",
              "    <tr>\n",
              "      <th>2</th>\n",
              "      <td>6303075</td>\n",
              "      <td>I like this a lot!&lt;p&gt;The research manuscript e...</td>\n",
              "      <td>heurist</td>\n",
              "      <td>5</td>\n",
              "      <td>31</td>\n",
              "      <td>42</td>\n",
              "      <td>Positive</td>\n",
              "    </tr>\n",
              "    <tr>\n",
              "      <th>3</th>\n",
              "      <td>6270567</td>\n",
              "      <td>Fetching stuff over HTTP can be incredibly stu...</td>\n",
              "      <td>MBCook</td>\n",
              "      <td>5</td>\n",
              "      <td>84</td>\n",
              "      <td>11</td>\n",
              "      <td>Positive</td>\n",
              "    </tr>\n",
              "    <tr>\n",
              "      <th>4</th>\n",
              "      <td>5487972</td>\n",
              "      <td>Conversely, start working( harder ).</td>\n",
              "      <td>TheSOB88</td>\n",
              "      <td>43</td>\n",
              "      <td>171</td>\n",
              "      <td>44</td>\n",
              "      <td>Neutral</td>\n",
              "    </tr>\n",
              "  </tbody>\n",
              "</table>\n",
              "</div>"
            ],
            "text/plain": [
              "   comment_id  ... sentiment\n",
              "0     3985756  ...  Negative\n",
              "1     2481521  ...  Positive\n",
              "2     6303075  ...  Positive\n",
              "3     6270567  ...  Positive\n",
              "4     5487972  ...   Neutral\n",
              "\n",
              "[5 rows x 7 columns]"
            ]
          },
          "metadata": {
            "tags": []
          },
          "execution_count": 14
        }
      ]
    },
    {
      "cell_type": "code",
      "metadata": {
        "id": "7eEiXyQumLqr",
        "colab_type": "code",
        "colab": {
          "base_uri": "https://localhost:8080/",
          "height": 289
        },
        "outputId": "dd5479b4-b643-4c9a-d8b7-8276581550ac"
      },
      "source": [
        "# Assigning values to positive and negative, neutral to be nan\n",
        "df['sentiment'] = df['sentiment'].replace(['Negative'], 1)\n",
        "df['sentiment'] = df['sentiment'].replace(['Positive'], 5)\n",
        "df['sentiment'] = df['sentiment'].replace(['Neutral'], np.nan)\n",
        "df.head()"
      ],
      "execution_count": null,
      "outputs": [
        {
          "output_type": "execute_result",
          "data": {
            "text/html": [
              "<div>\n",
              "<style scoped>\n",
              "    .dataframe tbody tr th:only-of-type {\n",
              "        vertical-align: middle;\n",
              "    }\n",
              "\n",
              "    .dataframe tbody tr th {\n",
              "        vertical-align: top;\n",
              "    }\n",
              "\n",
              "    .dataframe thead th {\n",
              "        text-align: right;\n",
              "    }\n",
              "</style>\n",
              "<table border=\"1\" class=\"dataframe\">\n",
              "  <thead>\n",
              "    <tr style=\"text-align: right;\">\n",
              "      <th></th>\n",
              "      <th>comment_id</th>\n",
              "      <th>comment_text</th>\n",
              "      <th>comment_author</th>\n",
              "      <th>comment_ranking</th>\n",
              "      <th>author_comment_count</th>\n",
              "      <th>story_comment_count</th>\n",
              "      <th>sentiment</th>\n",
              "    </tr>\n",
              "  </thead>\n",
              "  <tbody>\n",
              "    <tr>\n",
              "      <th>0</th>\n",
              "      <td>3985756</td>\n",
              "      <td>Makes sense for Verizon, and if they are being...</td>\n",
              "      <td>Quizzy</td>\n",
              "      <td>10</td>\n",
              "      <td>11</td>\n",
              "      <td>13</td>\n",
              "      <td>1.0</td>\n",
              "    </tr>\n",
              "    <tr>\n",
              "      <th>1</th>\n",
              "      <td>2481521</td>\n",
              "      <td>\"Made to play\" is a contradiction.</td>\n",
              "      <td>petervandijck</td>\n",
              "      <td>9</td>\n",
              "      <td>1125</td>\n",
              "      <td>16</td>\n",
              "      <td>5.0</td>\n",
              "    </tr>\n",
              "    <tr>\n",
              "      <th>2</th>\n",
              "      <td>6303075</td>\n",
              "      <td>I like this a lot!&lt;p&gt;The research manuscript e...</td>\n",
              "      <td>heurist</td>\n",
              "      <td>5</td>\n",
              "      <td>31</td>\n",
              "      <td>42</td>\n",
              "      <td>5.0</td>\n",
              "    </tr>\n",
              "    <tr>\n",
              "      <th>3</th>\n",
              "      <td>6270567</td>\n",
              "      <td>Fetching stuff over HTTP can be incredibly stu...</td>\n",
              "      <td>MBCook</td>\n",
              "      <td>5</td>\n",
              "      <td>84</td>\n",
              "      <td>11</td>\n",
              "      <td>5.0</td>\n",
              "    </tr>\n",
              "    <tr>\n",
              "      <th>4</th>\n",
              "      <td>5487972</td>\n",
              "      <td>Conversely, start working( harder ).</td>\n",
              "      <td>TheSOB88</td>\n",
              "      <td>43</td>\n",
              "      <td>171</td>\n",
              "      <td>44</td>\n",
              "      <td>NaN</td>\n",
              "    </tr>\n",
              "  </tbody>\n",
              "</table>\n",
              "</div>"
            ],
            "text/plain": [
              "   comment_id  ... sentiment\n",
              "0     3985756  ...       1.0\n",
              "1     2481521  ...       5.0\n",
              "2     6303075  ...       5.0\n",
              "3     6270567  ...       5.0\n",
              "4     5487972  ...       NaN\n",
              "\n",
              "[5 rows x 7 columns]"
            ]
          },
          "metadata": {
            "tags": []
          },
          "execution_count": 15
        }
      ]
    },
    {
      "cell_type": "code",
      "metadata": {
        "id": "1DeMCO1HyiUu",
        "colab_type": "code",
        "colab": {
          "base_uri": "https://localhost:8080/",
          "height": 153
        },
        "outputId": "4da716b3-b70d-4ee9-e0d2-fa962d1ca3bf"
      },
      "source": [
        "# Getting a null count\n",
        "df.isnull().sum()"
      ],
      "execution_count": null,
      "outputs": [
        {
          "output_type": "execute_result",
          "data": {
            "text/plain": [
              "comment_id                  0\n",
              "comment_text                0\n",
              "comment_author              0\n",
              "comment_ranking             0\n",
              "author_comment_count        0\n",
              "story_comment_count         0\n",
              "sentiment               29173\n",
              "dtype: int64"
            ]
          },
          "metadata": {
            "tags": []
          },
          "execution_count": 16
        }
      ]
    },
    {
      "cell_type": "code",
      "metadata": {
        "id": "clkTwTckyMQx",
        "colab_type": "code",
        "colab": {}
      },
      "source": [
        "# Drop them nulls\n",
        "df = df.dropna()"
      ],
      "execution_count": null,
      "outputs": []
    },
    {
      "cell_type": "code",
      "metadata": {
        "id": "ZFU5AP3Tyl_u",
        "colab_type": "code",
        "colab": {
          "base_uri": "https://localhost:8080/",
          "height": 34
        },
        "outputId": "060edfed-93fe-4177-81ff-f17f8bca7177"
      },
      "source": [
        "df.shape"
      ],
      "execution_count": null,
      "outputs": [
        {
          "output_type": "execute_result",
          "data": {
            "text/plain": [
              "(170827, 7)"
            ]
          },
          "metadata": {
            "tags": []
          },
          "execution_count": 18
        }
      ]
    },
    {
      "cell_type": "markdown",
      "metadata": {
        "id": "UcsKyjqBEIbp",
        "colab_type": "text"
      },
      "source": [
        "## After shaping and sentiment we moved on to splitting the data and generated a tokenized sequential model to do some initial training."
      ]
    },
    {
      "cell_type": "code",
      "metadata": {
        "id": "JROvEqh6j_oz",
        "colab_type": "code",
        "colab": {}
      },
      "source": [
        "X,y = (df['comment_text'].values, df['sentiment'].values)"
      ],
      "execution_count": null,
      "outputs": []
    },
    {
      "cell_type": "code",
      "metadata": {
        "id": "BGty4uiMQQFz",
        "colab_type": "code",
        "colab": {}
      },
      "source": [
        "# Necessary imports\n",
        "from keras.preprocessing.text import Tokenizer\n",
        "from keras.preprocessing.sequence import pad_sequences\n",
        "from tensorflow.keras.models import Sequential\n",
        "from tensorflow.keras.layers import Dense\n",
        "from tensorflow.keras.optimizers import RMSprop\n",
        "\n",
        "tk = Tokenizer(lower=True)\n",
        "tk.fit_on_texts(X)\n",
        "X_seq = tk.texts_to_sequences(X)\n",
        "X_pad = pad_sequences(X_seq, \n",
        "                      maxlen=100, \n",
        "                      padding='post')\n"
      ],
      "execution_count": null,
      "outputs": []
    },
    {
      "cell_type": "code",
      "metadata": {
        "id": "gi6tWEGFQQCu",
        "colab_type": "code",
        "colab": {}
      },
      "source": [
        "# Train/Test split\n",
        "X_train, X_test, y_train, y_test = train_test_split(X_pad, \n",
        "                                                    y, \n",
        "                                                    test_size=.2, \n",
        "                                                    random_state=42)"
      ],
      "execution_count": null,
      "outputs": []
    },
    {
      "cell_type": "code",
      "metadata": {
        "id": "FC_jWGT5QQKc",
        "colab_type": "code",
        "colab": {}
      },
      "source": [
        "batch_size = 64\n",
        "X_train1 = X_train[batch_size:]\n",
        "y_train1 = y_train[batch_size:]\n",
        "\n",
        "X_valid = X_train[:batch_size]\n",
        "y_valid = y_train[:batch_size]\n"
      ],
      "execution_count": null,
      "outputs": []
    },
    {
      "cell_type": "markdown",
      "metadata": {
        "id": "fLBdTr7YxGZZ",
        "colab_type": "text"
      },
      "source": [
        "## Running, fitting and testing the model"
      ]
    },
    {
      "cell_type": "code",
      "metadata": {
        "id": "gvDFNGmskjAb",
        "colab_type": "code",
        "colab": {}
      },
      "source": [
        "from keras.models import Sequential\n",
        "from keras.layers import Embedding, LSTM, Dense, Dropout\n",
        "\n",
        "vocabulary_size = len(tk.word_counts.keys())+1\n",
        "max_words = 100\n",
        "embedding_size = 32\n",
        "model = Sequential()\n",
        "model.add(Embedding(vocabulary_size, embedding_size, input_length=max_words))\n",
        "model.add(LSTM(200))\n",
        "model.add(Dense(1, activation='sigmoid'))\n",
        "model.compile(loss='binary_crossentropy', \n",
        "              optimizer='adam', \n",
        "              metrics=['accuracy'])"
      ],
      "execution_count": null,
      "outputs": []
    },
    {
      "cell_type": "code",
      "metadata": {
        "id": "Lw9mcYhMlDH_",
        "colab_type": "code",
        "colab": {
          "base_uri": "https://localhost:8080/",
          "height": 54
        },
        "outputId": "dc419583-8bd0-486a-c310-19e6af44be18"
      },
      "source": [
        "# Fitting the model\n",
        "history = model.fit(X_train1, \n",
        "                    y_train1, \n",
        "                    validation_data=(X_valid, y_valid),\n",
        "                    batch_size=batch_size,\n",
        "                    epochs=1)"
      ],
      "execution_count": null,
      "outputs": [
        {
          "output_type": "stream",
          "text": [
            "2135/2135 [==============================] - 69s 32ms/step - loss: -645.3524 - accuracy: 0.2701 - val_loss: -1227.2336 - val_accuracy: 0.2812\n"
          ],
          "name": "stdout"
        }
      ]
    },
    {
      "cell_type": "code",
      "metadata": {
        "id": "I3qK3uI3m_QT",
        "colab_type": "code",
        "colab": {
          "base_uri": "https://localhost:8080/",
          "height": 34
        },
        "outputId": "55eeecd8-edbe-44f9-baec-bff63048d5fd"
      },
      "source": [
        "# Testing\n",
        "scores = model.evaluate(X_test, y_test, verbose=0)\n",
        "print(\"Test accuracy: \", scores[1])"
      ],
      "execution_count": null,
      "outputs": [
        {
          "output_type": "stream",
          "text": [
            "Test accuracy:  0.272463858127594\n"
          ],
          "name": "stdout"
        }
      ]
    },
    {
      "cell_type": "markdown",
      "metadata": {
        "id": "hp4XKR7SwypT",
        "colab_type": "text"
      },
      "source": [
        "## Converting dataframe to a CSV file with a new directory"
      ]
    },
    {
      "cell_type": "code",
      "metadata": {
        "id": "GGdwJwhRnXC0",
        "colab_type": "code",
        "colab": {}
      },
      "source": [
        "# Saving dataframe as a CSV\n",
        "df.to_csv('sample.csv')"
      ],
      "execution_count": null,
      "outputs": []
    },
    {
      "cell_type": "code",
      "metadata": {
        "id": "PdsKO_rtnXMb",
        "colab_type": "code",
        "colab": {
          "base_uri": "https://localhost:8080/",
          "height": 34
        },
        "outputId": "fcd7952e-ee1b-4643-dfcd-cbb936dc43d6"
      },
      "source": [
        "# Creating a new directory\n",
        "!mkdir -p saved_model\n",
        "\n",
        "model.save('saved_model/my_model')\n",
        "model.save('model1.h5')"
      ],
      "execution_count": null,
      "outputs": [
        {
          "output_type": "stream",
          "text": [
            "INFO:tensorflow:Assets written to: saved_model/my_model/assets\n"
          ],
          "name": "stdout"
        }
      ]
    },
    {
      "cell_type": "code",
      "metadata": {
        "id": "cUdCjwFsGaMp",
        "colab_type": "code",
        "colab": {}
      },
      "source": [
        "text = \"This post is garbage and I hate it.\"\n",
        "\n",
        "new_model = tf.keras.models.load_model('model1.h5')"
      ],
      "execution_count": null,
      "outputs": []
    },
    {
      "cell_type": "code",
      "metadata": {
        "id": "H3-n6OAjKpBp",
        "colab_type": "code",
        "colab": {}
      },
      "source": [
        "cleaned = pd.read_csv('/content/drive/My Drive/hacker_news_comments.csv')\n"
      ],
      "execution_count": null,
      "outputs": []
    },
    {
      "cell_type": "markdown",
      "metadata": {
        "id": "AJmV2Ds5EUoC",
        "colab_type": "text"
      },
      "source": [
        "## Conclusion: Ultimately each of my model attempts never exceeded a 27% accuracy, so I believe we will just go the NLP route rather than the neural network route. \n"
      ]
    }
  ]
}